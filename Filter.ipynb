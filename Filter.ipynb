{
 "cells": [
  {
   "cell_type": "code",
   "execution_count": null,
   "id": "ca497e63",
   "metadata": {},
   "outputs": [
    {
     "name": "stdout",
     "output_type": "stream",
     "text": [
      "{}\n"
     ]
    }
   ],
   "source": [
    "import json\n",
    "\n",
    "def filter_chunks_by_tags(chunks, tags):\n",
    "    matched_chunks = {}\n",
    "    for i, chunk in enumerate(chunks):\n",
    "        entities = chunk.get(\"entities\", [])\n",
    "        match_count = sum(entities.count(tag) for tag in tags)\n",
    "        if match_count > 0:\n",
    "            matched_chunks[i] = {\n",
    "                \"match_count\": match_count,\n",
    "                \"text\": chunk[\"text\"]\n",
    "            }\n",
    "    return matched_chunks\n",
    "    \n",
    "with open(\"chunks_with_entities.json\", \"r\", encoding=\"utf-8\") as f:\n",
    "    chunks = json.load(f)\n",
    "\n",
    "tags = [\"Bluetooth\", \"remote diagnostics\", \"electrochemical test\", \"microcontroller\", \"telemedicine\"]\n",
    "\n",
    "matched_chunks = filter_chunks_by_tags(chunks, tags)\n",
    "\n",
    "print(matched_chunks)\n"
   ]
  },
  {
   "cell_type": "code",
   "execution_count": null,
   "id": "10d1d2f6",
   "metadata": {},
   "outputs": [],
   "source": []
  }
 ],
 "metadata": {
  "kernelspec": {
   "display_name": "AbottProject (3.9.6)",
   "language": "python",
   "name": "python3"
  },
  "language_info": {
   "codemirror_mode": {
    "name": "ipython",
    "version": 3
   },
   "file_extension": ".py",
   "mimetype": "text/x-python",
   "name": "python",
   "nbconvert_exporter": "python",
   "pygments_lexer": "ipython3",
   "version": "3.9.6"
  }
 },
 "nbformat": 4,
 "nbformat_minor": 5
}
