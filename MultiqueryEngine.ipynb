{
 "cells": [
  {
   "cell_type": "markdown",
   "id": "278a0c7c",
   "metadata": {},
   "source": []
  },
  {
   "cell_type": "code",
   "execution_count": null,
   "id": "d73c91f4",
   "metadata": {},
   "outputs": [],
   "source": [
    "import os\n",
    "from dotenv import load_dotenv\n",
    "from openai import AzureOpenAI"
   ]
  },
  {
   "cell_type": "code",
   "execution_count": null,
   "id": "8e6da180",
   "metadata": {},
   "outputs": [],
   "source": [
    "load_dotenv()\n",
    "\n",
    "endpoint = \"https://aoai-camp.openai.azure.com/\"\n",
    "model_name = \"gpt-4o-mini\"\n",
    "deployment = \"abbott_researcher\"\n",
    "api_version = \"2024-12-01-preview\"\n",
    "\n",
    "client = AzureOpenAI(\n",
    "    api_version=api_version,\n",
    "    azure_endpoint=endpoint,\n",
    "    api_key=os.getenv(\"subscription_key\")\n",
    ")\n"
   ]
  },
  {
   "cell_type": "code",
   "execution_count": null,
   "id": "0fee2ec2",
   "metadata": {},
   "outputs": [],
   "source": [
    "def generate_subqueries(question: str):\n",
    "    prompt = f\"\"\"\n",
    "You are a helpful assistant specialized in medical diagnostic devices.\n",
    "Given the following question, generate 3 diverse, search-optimized subqueries that could be used independently to retrieve \n",
    "relevant information from a database of articles full of medical research.\n",
    "The retrieved information will then be searched for intersecting information and then summarized to answer the original question.\n",
    "Do not include years in the generated subqueries.\n",
    "Stay relevant to the question itself.\n",
    "\n",
    "The question to create subqueries based off of is:\n",
    "{question}\n",
    "\n",
    "Return the output as a list of 3 subqueries only.\n",
    "\"\"\"\n",
    "    response = client.chat.completions.create(\n",
    "        model=deployment,\n",
    "        messages=[\n",
    "            {\"role\": \"system\", \"content\": \"You are an expert in breaking down complex medical device queries into simpler subqueries.\"},\n",
    "            {\"role\": \"user\", \"content\": prompt}\n",
    "        ],\n",
    "        temperature=0.5 # Play with creativity \n",
    "    )\n",
    "    output = response.choices[0].message.content\n",
    "    print(\"\\nUser Query:\")  \n",
    "    print(question)\n",
    "    print(\"\\nGenerated Subqueries:\")\n",
    "    print(output)\n"
   ]
  },
  {
   "cell_type": "code",
   "execution_count": null,
   "id": "b70ab3ee",
   "metadata": {},
   "outputs": [],
   "source": [
    "question = \"What are the latest advancements in wearable medical devices for glucose monitoring?\"\n",
    "generate_subqueries(question)"
   ]
  }
 ],
 "metadata": {
  "kernelspec": {
   "display_name": "AbottProject (3.9.6)",
   "language": "python",
   "name": "python3"
  },
  "language_info": {
   "codemirror_mode": {
    "name": "ipython",
    "version": 3
   },
   "file_extension": ".py",
   "mimetype": "text/x-python",
   "name": "python",
   "nbconvert_exporter": "python",
   "pygments_lexer": "ipython3",
   "version": "3.9.6"
  }
 },
 "nbformat": 4,
 "nbformat_minor": 5
}
